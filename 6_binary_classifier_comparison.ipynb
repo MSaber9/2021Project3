{
  "nbformat": 4,
  "nbformat_minor": 0,
  "metadata": {
    "kernelspec": {
      "display_name": "Python 3",
      "language": "python",
      "name": "python3"
    },
    "language_info": {
      "codemirror_mode": {
        "name": "ipython",
        "version": 3
      },
      "file_extension": ".py",
      "mimetype": "text/x-python",
      "name": "python",
      "nbconvert_exporter": "python",
      "pygments_lexer": "ipython3",
      "version": "3.7.3"
    },
    "colab": {
      "name": "6_binary_classifier_comparison.ipynb",
      "provenance": [],
      "collapsed_sections": [],
      "machine_shape": "hm",
      "include_colab_link": true
    },
    "accelerator": "TPU"
  },
  "cells": [
    {
      "cell_type": "markdown",
      "metadata": {
        "id": "view-in-github",
        "colab_type": "text"
      },
      "source": [
        "<a href=\"https://colab.research.google.com/github/MSaber9/2021Project3/blob/main/6_binary_classifier_comparison.ipynb\" target=\"_parent\"><img src=\"https://colab.research.google.com/assets/colab-badge.svg\" alt=\"Open In Colab\"/></a>"
      ]
    },
    {
      "cell_type": "markdown",
      "metadata": {
        "id": "XcjzZLBY-tEY"
      },
      "source": [
        "## Library"
      ]
    },
    {
      "cell_type": "code",
      "metadata": {
        "colab": {
          "base_uri": "https://localhost:8080/"
        },
        "id": "ZIoRuOnd4YAm",
        "outputId": "eb01595f-499e-41a9-b253-763855015709"
      },
      "source": [
        "from google.colab import drive\n",
        "drive.mount('/content/drive')"
      ],
      "execution_count": null,
      "outputs": [
        {
          "output_type": "stream",
          "text": [
            "Drive already mounted at /content/drive; to attempt to forcibly remount, call drive.mount(\"/content/drive\", force_remount=True).\n"
          ],
          "name": "stdout"
        }
      ]
    },
    {
      "cell_type": "code",
      "metadata": {
        "colab": {
          "base_uri": "https://localhost:8080/"
        },
        "id": "KXP4DRw74X9i",
        "outputId": "8aacbfb0-cfa2-4390-ccdb-7e4494bf36b9"
      },
      "source": [
        "%cd /content/drive/My Drive/Colab Notebooks/Newi/2021Project3/"
      ],
      "execution_count": null,
      "outputs": [
        {
          "output_type": "stream",
          "text": [
            "/content/drive/My Drive/Colab Notebooks/Newi/2021Project3\n"
          ],
          "name": "stdout"
        }
      ]
    },
    {
      "cell_type": "code",
      "metadata": {
        "colab": {
          "base_uri": "https://localhost:8080/"
        },
        "id": "IHTl580w4X6r",
        "outputId": "11f51bab-0915-4f07-bb6f-13a0fcff705b"
      },
      "source": [
        "!ls"
      ],
      "execution_count": null,
      "outputs": [
        {
          "output_type": "stream",
          "text": [
            "01_data_cleanup.ipynb\t04_dl_anomaly_detection.ipynb  Dataupdate  models5\n",
            "02_data_analysis.ipynb\t05_dl_classifier.ipynb\t       mlids\t   processed\n",
            "03_ml_classifier.ipynb\tData\t\t\t       models4\t   tmp\n"
          ],
          "name": "stdout"
        }
      ]
    },
    {
      "cell_type": "code",
      "metadata": {
        "id": "BgJzoDCm5DP9"
      },
      "source": [
        ""
      ],
      "execution_count": null,
      "outputs": []
    },
    {
      "cell_type": "code",
      "metadata": {
        "colab": {
          "base_uri": "https://localhost:8080/"
        },
        "id": "EVnv0jIB5DNG",
        "outputId": "33dff511-fc56-44c3-9fbb-a2865fe1c5c1"
      },
      "source": [
        "pip install catboost"
      ],
      "execution_count": null,
      "outputs": [
        {
          "output_type": "stream",
          "text": [
            "Requirement already satisfied: catboost in /usr/local/lib/python3.7/dist-packages (0.25.1)\n",
            "Requirement already satisfied: six in /usr/local/lib/python3.7/dist-packages (from catboost) (1.15.0)\n",
            "Requirement already satisfied: scipy in /usr/local/lib/python3.7/dist-packages (from catboost) (1.4.1)\n",
            "Requirement already satisfied: graphviz in /usr/local/lib/python3.7/dist-packages (from catboost) (0.10.1)\n",
            "Requirement already satisfied: pandas>=0.24.0 in /usr/local/lib/python3.7/dist-packages (from catboost) (1.1.5)\n",
            "Requirement already satisfied: numpy>=1.16.0 in /usr/local/lib/python3.7/dist-packages (from catboost) (1.19.5)\n",
            "Requirement already satisfied: matplotlib in /usr/local/lib/python3.7/dist-packages (from catboost) (3.2.2)\n",
            "Requirement already satisfied: plotly in /usr/local/lib/python3.7/dist-packages (from catboost) (4.4.1)\n",
            "Requirement already satisfied: pytz>=2017.2 in /usr/local/lib/python3.7/dist-packages (from pandas>=0.24.0->catboost) (2018.9)\n",
            "Requirement already satisfied: python-dateutil>=2.7.3 in /usr/local/lib/python3.7/dist-packages (from pandas>=0.24.0->catboost) (2.8.1)\n",
            "Requirement already satisfied: kiwisolver>=1.0.1 in /usr/local/lib/python3.7/dist-packages (from matplotlib->catboost) (1.3.1)\n",
            "Requirement already satisfied: pyparsing!=2.0.4,!=2.1.2,!=2.1.6,>=2.0.1 in /usr/local/lib/python3.7/dist-packages (from matplotlib->catboost) (2.4.7)\n",
            "Requirement already satisfied: cycler>=0.10 in /usr/local/lib/python3.7/dist-packages (from matplotlib->catboost) (0.10.0)\n",
            "Requirement already satisfied: retrying>=1.3.3 in /usr/local/lib/python3.7/dist-packages (from plotly->catboost) (1.3.3)\n"
          ],
          "name": "stdout"
        }
      ]
    },
    {
      "cell_type": "code",
      "metadata": {
        "colab": {
          "base_uri": "https://localhost:8080/"
        },
        "id": "bQbxGR8E5DKZ",
        "outputId": "59857ac4-abf7-4a8e-9ec8-1bad7ab02574"
      },
      "source": [
        "pip install hyperopt"
      ],
      "execution_count": null,
      "outputs": [
        {
          "output_type": "stream",
          "text": [
            "Requirement already satisfied: hyperopt in /usr/local/lib/python3.7/dist-packages (0.2.3)\n",
            "Requirement already satisfied: six in /usr/local/lib/python3.7/dist-packages (from hyperopt) (1.15.0)\n",
            "Requirement already satisfied: numpy in /usr/local/lib/python3.7/dist-packages (from hyperopt) (1.19.5)\n",
            "Requirement already satisfied: future in /usr/local/lib/python3.7/dist-packages (from hyperopt) (0.16.0)\n",
            "Requirement already satisfied: cloudpickle in /usr/local/lib/python3.7/dist-packages (from hyperopt) (1.3.0)\n",
            "Requirement already satisfied: networkx==2.2 in /usr/local/lib/python3.7/dist-packages (from hyperopt) (2.2)\n",
            "Requirement already satisfied: scipy in /usr/local/lib/python3.7/dist-packages (from hyperopt) (1.4.1)\n",
            "Requirement already satisfied: tqdm in /usr/local/lib/python3.7/dist-packages (from hyperopt) (4.41.1)\n",
            "Requirement already satisfied: decorator>=4.3.0 in /usr/local/lib/python3.7/dist-packages (from networkx==2.2->hyperopt) (4.4.2)\n"
          ],
          "name": "stdout"
        }
      ]
    },
    {
      "cell_type": "code",
      "metadata": {
        "colab": {
          "base_uri": "https://localhost:8080/"
        },
        "id": "_sok5JF15jYx",
        "outputId": "223a3ed1-7253-4d11-80c0-32ffad991175"
      },
      "source": [
        "pip install \"hyperopt==0.2.3\""
      ],
      "execution_count": null,
      "outputs": [
        {
          "output_type": "stream",
          "text": [
            "Requirement already satisfied: hyperopt==0.2.3 in /usr/local/lib/python3.7/dist-packages (0.2.3)\n",
            "Requirement already satisfied: networkx==2.2 in /usr/local/lib/python3.7/dist-packages (from hyperopt==0.2.3) (2.2)\n",
            "Requirement already satisfied: six in /usr/local/lib/python3.7/dist-packages (from hyperopt==0.2.3) (1.15.0)\n",
            "Requirement already satisfied: future in /usr/local/lib/python3.7/dist-packages (from hyperopt==0.2.3) (0.16.0)\n",
            "Requirement already satisfied: cloudpickle in /usr/local/lib/python3.7/dist-packages (from hyperopt==0.2.3) (1.3.0)\n",
            "Requirement already satisfied: tqdm in /usr/local/lib/python3.7/dist-packages (from hyperopt==0.2.3) (4.41.1)\n",
            "Requirement already satisfied: numpy in /usr/local/lib/python3.7/dist-packages (from hyperopt==0.2.3) (1.19.5)\n",
            "Requirement already satisfied: scipy in /usr/local/lib/python3.7/dist-packages (from hyperopt==0.2.3) (1.4.1)\n",
            "Requirement already satisfied: decorator>=4.3.0 in /usr/local/lib/python3.7/dist-packages (from networkx==2.2->hyperopt==0.2.3) (4.4.2)\n"
          ],
          "name": "stdout"
        }
      ]
    },
    {
      "cell_type": "code",
      "metadata": {
        "id": "g2wIUu8J4B2M"
      },
      "source": [
        "import numpy as np\n",
        "import pandas as pd\n",
        "import matplotlib.pyplot as plt\n",
        "import seaborn as sns\n",
        "import gc\n",
        "import uuid\n",
        "import joblib as jl\n",
        "import tensorflow as tf\n",
        "from sklearn.metrics import average_precision_score, classification_report\n",
        "from sklearn.preprocessing import StandardScaler\n",
        "from sklearn.ensemble import RandomForestClassifier\n",
        "from catboost import CatBoostClassifier, Pool\n",
        "from tensorflow.keras import models\n",
        "from hyperopt import fmin, hp, tpe, atpe, Trials, STATUS_OK\n",
        "from hyperopt.plotting import main_plot_history, main_plot_vars\n",
        "\n",
        "\n",
        "rand_state = 42\n",
        "tf.random.set_seed(rand_state)\n",
        "np.random.seed(rand_state)\n",
        "\n",
        "%matplotlib inline\n",
        "\n",
        "%load_ext autoreload\n",
        "%autoreload 2"
      ],
      "execution_count": null,
      "outputs": []
    },
    {
      "cell_type": "code",
      "metadata": {
        "id": "VmqO7TYJ48eh"
      },
      "source": [
        ""
      ],
      "execution_count": null,
      "outputs": []
    },
    {
      "cell_type": "code",
      "metadata": {
        "colab": {
          "base_uri": "https://localhost:8080/"
        },
        "id": "whSF6XAa48lh",
        "outputId": "7ce241e5-7cd1-4a17-8254-da7edf8a96c8"
      },
      "source": [
        "!ls '/content/drive/My Drive/Colab Notebooks/Newi/2021Project3/mlids'"
      ],
      "execution_count": null,
      "outputs": [
        {
          "output_type": "stream",
          "text": [
            "conf.py      keras   model_selection.py  tf_utils.py  utils3.py\n",
            "data\t     libs    prediction.py\t transform    utils.py\n",
            "__init__.py  models  __pycache__\t utils2.py    visualization.py\n"
          ],
          "name": "stdout"
        }
      ]
    },
    {
      "cell_type": "code",
      "metadata": {
        "id": "Ux3wL8sh55C_"
      },
      "source": [
        ""
      ],
      "execution_count": null,
      "outputs": []
    },
    {
      "cell_type": "code",
      "metadata": {
        "id": "Dayhio2a55AJ"
      },
      "source": [
        ""
      ],
      "execution_count": null,
      "outputs": []
    },
    {
      "cell_type": "code",
      "metadata": {
        "id": "fBHe6LkF5OyQ"
      },
      "source": [
        "import mlids.keras.prediction as kp\n",
        "from mlids.data.dataset import load_dataset\n",
        "from mlids.data.metadata import FEATURES_NO_VARIANCE\n",
        "from mlids.visualization import plot_hist, print_binary_performance, plot_pr_curve, plot_pr_curves, plot_pr_threshold_curves\n",
        "from mlids.keras.metrics import AveragePrecisionScoreMetric\n",
        "from mlids.model_selection import best_precision_for_target_recall\n",
        "from mlids.prediction import predict_proba_positive, predict_decision_boundary\n",
        "from mlids.tf_utils import enable_gpu_memory_growth\n"
      ],
      "execution_count": null,
      "outputs": []
    },
    {
      "cell_type": "code",
      "metadata": {
        "id": "ap5c1xNe7W_7",
        "colab": {
          "base_uri": "https://localhost:8080/"
        },
        "outputId": "339e347d-4865-44b6-a8b3-b92fd6d575d2"
      },
      "source": [
        "!ls"
      ],
      "execution_count": null,
      "outputs": [
        {
          "output_type": "stream",
          "text": [
            "01_data_cleanup.ipynb\t04_dl_anomaly_detection.ipynb  Dataupdate  models5\n",
            "02_data_analysis.ipynb\t05_dl_classifier.ipynb\t       mlids\t   processed\n",
            "03_ml_classifier.ipynb\tData\t\t\t       models4\t   tmp\n"
          ],
          "name": "stdout"
        }
      ]
    },
    {
      "cell_type": "code",
      "metadata": {
        "colab": {
          "base_uri": "https://localhost:8080/"
        },
        "id": "JibmfKrE6SgO",
        "outputId": "1b80c548-5e30-4bff-9b0f-39f5e08e2b61"
      },
      "source": [
        "from mlids.utils3 import transform_data, get_best_model_path, print_trial_results"
      ],
      "execution_count": null,
      "outputs": [
        {
          "output_type": "stream",
          "text": [
            "/usr/local/lib/python3.7/dist-packages/sklearn/externals/six.py:31: FutureWarning: The module is deprecated in version 0.21 and will be removed in version 0.23 since we've dropped support for Python 2.7. Please rely on the official version of six (https://pypi.org/project/six/).\n",
            "  \"(https://pypi.org/project/six/).\", FutureWarning)\n",
            "/usr/local/lib/python3.7/dist-packages/sklearn/utils/deprecation.py:144: FutureWarning: The sklearn.neighbors.base module is  deprecated in version 0.22 and will be removed in version 0.24. The corresponding classes / functions should instead be imported from sklearn.neighbors. Anything that cannot be imported from sklearn.neighbors is now part of the private API.\n",
            "  warnings.warn(message, FutureWarning)\n"
          ],
          "name": "stderr"
        }
      ]
    },
    {
      "cell_type": "code",
      "metadata": {
        "id": "6KJj3DVA6Sdq"
      },
      "source": [
        ""
      ],
      "execution_count": null,
      "outputs": []
    },
    {
      "cell_type": "code",
      "metadata": {
        "id": "sjVcq68B6Sa7"
      },
      "source": [
        ""
      ],
      "execution_count": null,
      "outputs": []
    },
    {
      "cell_type": "code",
      "metadata": {
        "id": "5Qa2zbop4X3x"
      },
      "source": [
        "dataset_base_path = '/content/drive/My Drive/Colab Notebooks/Newi/2021Project3/Dataupdate'"
      ],
      "execution_count": null,
      "outputs": []
    },
    {
      "cell_type": "code",
      "metadata": {
        "id": "Ok-LW0dA5O4B"
      },
      "source": [
        ""
      ],
      "execution_count": null,
      "outputs": []
    },
    {
      "cell_type": "markdown",
      "metadata": {
        "id": "LilIWS634B2N"
      },
      "source": [
        "##Data Loading & Preparation\n",
        "\n"
      ]
    },
    {
      "cell_type": "code",
      "metadata": {
        "colab": {
          "base_uri": "https://localhost:8080/"
        },
        "id": "8yuamOB_78fr",
        "outputId": "e9d4f545-a5d6-4919-d127-d0fbcd1ba213"
      },
      "source": [
        "dataset = load_dataset(dataset_base_path,\n",
        "                       omit_cols=FEATURES_NO_VARIANCE + ['timestamp', 'dst_port', 'protocol'],\n",
        "                       preserve_neg_value_cols=['init_fwd_win_byts', 'init_bwd_win_byts'])\n",
        "\n",
        "X_train, y_train, X_val, y_val, X_test, y_test, column_names = transform_data(dataset=dataset,\n",
        "                                                                              imputer_strategy='median',\n",
        "                                                                              scaler=StandardScaler,\n",
        "                                                                              attack_samples=100000,\n",
        "                                                                              random_state=rand_state)\n",
        "\n",
        "del dataset"
      ],
      "execution_count": null,
      "outputs": [
        {
          "output_type": "stream",
          "text": [
            "Samples:\n",
            "========\n",
            "Training: (12986354, 68)\n",
            "Val:      (1623294, 68)\n",
            "Test:     (1623295, 68)\n",
            "\n",
            "Training labels:\n",
            "================\n",
            "Benign                      10787766\n",
            "DDOS attack-HOIC              548809\n",
            "DDoS attacks-LOIC-HTTP        460953\n",
            "DoS attacks-Hulk              369530\n",
            "Bot                           228953\n",
            "FTP-BruteForce                154688\n",
            "SSH-Bruteforce                150071\n",
            "Infilteration                 129547\n",
            "DoS attacks-SlowHTTPTest      111912\n",
            "DoS attacks-GoldenEye          33206\n",
            "DoS attacks-Slowloris           8792\n",
            "DDOS attack-LOIC-UDP            1384\n",
            "Brute Force -Web                 489\n",
            "Brute Force -XSS                 184\n",
            "SQL Injection                     70\n",
            "Name: label, dtype: int64\n",
            "\n",
            "Validation labels:\n",
            "==================\n",
            "Benign                      1348471\n",
            "DDOS attack-HOIC              68601\n",
            "DDoS attacks-LOIC-HTTP        57619\n",
            "DoS attacks-Hulk              46191\n",
            "Bot                           28619\n",
            "FTP-BruteForce                19336\n",
            "SSH-Bruteforce                18759\n",
            "Infilteration                 16193\n",
            "DoS attacks-SlowHTTPTest      13989\n",
            "DoS attacks-GoldenEye          4151\n",
            "DoS attacks-Slowloris          1099\n",
            "DDOS attack-LOIC-UDP            173\n",
            "Brute Force -Web                 61\n",
            "Brute Force -XSS                 23\n",
            "SQL Injection                     9\n",
            "Name: label, dtype: int64\n",
            "\n",
            "Test labels:\n",
            "============\n",
            "Benign                      1348471\n",
            "DDOS attack-HOIC              68602\n",
            "DDoS attacks-LOIC-HTTP        57619\n",
            "DoS attacks-Hulk              46191\n",
            "Bot                           28619\n",
            "FTP-BruteForce                19336\n",
            "SSH-Bruteforce                18759\n",
            "Infilteration                 16194\n",
            "DoS attacks-SlowHTTPTest      13989\n",
            "DoS attacks-GoldenEye          4151\n",
            "DoS attacks-Slowloris          1099\n",
            "DDOS attack-LOIC-UDP            173\n",
            "Brute Force -Web                 61\n",
            "Brute Force -XSS                 23\n",
            "SQL Injection                     8\n",
            "Name: label, dtype: int64\n",
            "Samples:\n",
            "========\n",
            "Training: (12986354, 68)\n",
            "Val:      (1623294, 68)\n",
            "Test:     (1623295, 68)\n",
            "\n",
            "Missing values:\n",
            "===============\n",
            "Training: 0\n",
            "Val:      0\n",
            "Test:     0\n",
            "\n",
            "Scaling:\n",
            "========\n",
            "Training: min=-2.3386325146596727, max=3405.803358093496\n",
            "Val:      min=-2.3386325146596727, max=807.4353509687579\n",
            "Test:     min=-2.3386325146596727, max=2812.3493309079604\n"
          ],
          "name": "stdout"
        },
        {
          "output_type": "stream",
          "text": [
            "/usr/local/lib/python3.7/dist-packages/sklearn/utils/deprecation.py:87: FutureWarning: Function safe_indexing is deprecated; safe_indexing is deprecated in version 0.22 and will be removed in version 0.24.\n",
            "  warnings.warn(msg, category=FutureWarning)\n",
            "/usr/local/lib/python3.7/dist-packages/sklearn/utils/deprecation.py:87: FutureWarning: Function safe_indexing is deprecated; safe_indexing is deprecated in version 0.22 and will be removed in version 0.24.\n",
            "  warnings.warn(msg, category=FutureWarning)\n",
            "/usr/local/lib/python3.7/dist-packages/sklearn/utils/deprecation.py:87: FutureWarning: Function safe_indexing is deprecated; safe_indexing is deprecated in version 0.22 and will be removed in version 0.24.\n",
            "  warnings.warn(msg, category=FutureWarning)\n",
            "/usr/local/lib/python3.7/dist-packages/sklearn/utils/deprecation.py:87: FutureWarning: Function safe_indexing is deprecated; safe_indexing is deprecated in version 0.22 and will be removed in version 0.24.\n",
            "  warnings.warn(msg, category=FutureWarning)\n",
            "/usr/local/lib/python3.7/dist-packages/sklearn/utils/deprecation.py:87: FutureWarning: Function safe_indexing is deprecated; safe_indexing is deprecated in version 0.22 and will be removed in version 0.24.\n",
            "  warnings.warn(msg, category=FutureWarning)\n",
            "/usr/local/lib/python3.7/dist-packages/sklearn/utils/deprecation.py:87: FutureWarning: Function safe_indexing is deprecated; safe_indexing is deprecated in version 0.22 and will be removed in version 0.24.\n",
            "  warnings.warn(msg, category=FutureWarning)\n"
          ],
          "name": "stderr"
        },
        {
          "output_type": "stream",
          "text": [
            "Samples:\n",
            "========\n",
            "Training: (13542229, 68)\n",
            "\n",
            "Training labels:\n",
            "================\n",
            "Counter({0: 10787766, 8: 548809, 10: 460953, 5: 369530, 1: 228953, 11: 154688, 14: 150071, 12: 129547, 6: 111912, 2: 100000, 4: 100000, 7: 100000, 9: 100000, 13: 100000, 3: 100000})\n"
          ],
          "name": "stdout"
        }
      ]
    },
    {
      "cell_type": "markdown",
      "metadata": {
        "id": "DyKeJzvW4B2R"
      },
      "source": [
        "## 2 Class Weight Calculation\n",
        "\n"
      ]
    },
    {
      "cell_type": "code",
      "metadata": {
        "id": "CTmgceTX4B2R"
      },
      "source": [
        "y_train_is_attack = (y_train != 0).astype('int')\n",
        "\n",
        "minority_class_weight = len(y_train_is_attack[y_train_is_attack == 0]) / len(y_train_is_attack[y_train_is_attack == 1])\n",
        "\n",
        "class_weights = { \n",
        "    0: 1, \n",
        "    1: minority_class_weight\n",
        "}\n",
        "\n",
        "class_weights_catboost = [1, minority_class_weight]"
      ],
      "execution_count": null,
      "outputs": []
    },
    {
      "cell_type": "markdown",
      "metadata": {
        "id": "y1RZup9e4B2S"
      },
      "source": [
        "## 3. Random Forest Model + Hyperparameter Search-Space\n",
        "\n",
        " "
      ]
    },
    {
      "cell_type": "code",
      "metadata": {
        "id": "XtQxJmE-4B2U"
      },
      "source": [
        "def train_random_forest(args):\n",
        "    print('\\nRun') \n",
        "    print('==========')\n",
        "    print('Parameters:\\n{}'.format(args))\n",
        "    \n",
        "    nr_estimators = int(args['nr_estimators'])\n",
        "    criterion = args['criterion']\n",
        "    max_depth = int(args['max_depth']['depth']) if args['max_depth']['depth'] else None\n",
        "    max_features = args['max_features']\n",
        "    min_samples_split = int(args['min_samples_split'])\n",
        "    min_samples_leaf = int(args['min_samples_leaf'])\n",
        "    \n",
        "    model_path = 'models/rf_{}.joblib'.format(uuid.uuid4())\n",
        "    \n",
        "    clf = RandomForestClassifier(n_estimators=nr_estimators,\n",
        "                                 criterion=criterion,\n",
        "                                 max_depth=max_depth,\n",
        "                                 max_features=max_features,\n",
        "                                 min_samples_split=min_samples_split,\n",
        "                                 min_samples_leaf=min_samples_leaf,\n",
        "                                 class_weight='balanced',\n",
        "                                 n_jobs=-1,\n",
        "                                 verbose=1,\n",
        "                                 random_state=rand_state)\n",
        "    \n",
        "    clf.fit(X_train, y_train_is_attack)\n",
        "    \n",
        "    pred = predict_proba_positive(clf, X_val)\n",
        "    pr_score = average_precision_score(y_val.label_is_attack, pred)\n",
        "    \n",
        "    jl.dump(clf, model_path)\n",
        "\n",
        "    print('PR Score: {}'.format(pr_score))\n",
        "    \n",
        "    return {\n",
        "        'loss': -pr_score,\n",
        "        'status': STATUS_OK,\n",
        "        'model_path': model_path\n",
        "    }"
      ],
      "execution_count": null,
      "outputs": []
    },
    {
      "cell_type": "code",
      "metadata": {
        "id": "NMmlCaD14B2V",
        "colab": {
          "base_uri": "https://localhost:8080/"
        },
        "outputId": "a439c4b1-257b-4312-a908-02230c3e68b2"
      },
      "source": [
        "trials_rf = Trials()\n",
        "\n",
        "space = { \n",
        "    'nr_estimators': hp.quniform('nr_estimators', 10, 100, 1),\n",
        "    'criterion': hp.choice('criterion', ['gini', 'entropy']),\n",
        "    'max_depth': hp.choice('max_depth', [\n",
        "        {\n",
        "            'depth': None\n",
        "        },\n",
        "        {\n",
        "            'depth': hp.quniform('nr_max_depth', 10, 100, 1),\n",
        "        }\n",
        "    ]),  \n",
        "    'max_features': hp.choice('max_features', ['sqrt', 'log2']),\n",
        "    'min_samples_split': hp.quniform('min_samples_split', 2, 10, 1),\n",
        "    'min_samples_leaf': hp.quniform('min_samples_leaf', 1, 10, 1)\n",
        "}\n",
        "\n",
        "best_run_rf = fmin(fn=train_random_forest,\n",
        "                   space=space,\n",
        "                   algo=tpe.suggest,\n",
        "                   max_evals=50,\n",
        "                   trials=trials_rf)"
      ],
      "execution_count": null,
      "outputs": [
        {
          "output_type": "stream",
          "text": [
            "\n",
            "Run\n",
            "==========\n",
            "Parameters:\n",
            "{'criterion': 'entropy', 'max_depth': {'depth': None}, 'max_features': 'log2', 'min_samples_leaf': 2.0, 'min_samples_split': 7.0, 'nr_estimators': 88.0}\n",
            "  0%|          | 0/50 [00:00<?, ?trial/s, best loss=?]"
          ],
          "name": "stdout"
        },
        {
          "output_type": "stream",
          "text": [
            "[Parallel(n_jobs=-1)]: Using backend ThreadingBackend with 40 concurrent workers.\n",
            "\n"
          ],
          "name": "stderr"
        }
      ]
    },
    {
      "cell_type": "markdown",
      "metadata": {
        "id": "K_RdONES4B2X"
      },
      "source": [
        "### Hyperparameter Search Results for RF\n",
        "\n"
      ]
    },
    {
      "cell_type": "code",
      "metadata": {
        "id": "xL0Nb60q4B2X"
      },
      "source": [
        "plt.figure(figsize=(20, 5))\n",
        "main_plot_history(trials_rf)\n",
        "\n",
        "plt.figure(figsize=(20, 20))\n",
        "main_plot_vars(trials_rf, columns=3, colorize_best=10, arrange_by_loss=False)"
      ],
      "execution_count": null,
      "outputs": []
    },
    {
      "cell_type": "markdown",
      "metadata": {
        "id": "P0GLxw2f4B2Y"
      },
      "source": [
        " Optimal Model Parameters\n",
        "\n",
        "Looking at the best performing model, we can observe the following parameter configuration:\n",
        "* `80` tree estimators,\n",
        "* the `entropy` information gain criterion,\n",
        "* a maximum depth of `32` nodes per tree,\n",
        "* `sqrt` as the selector for the maximum number of features considered when splitting a node,\n",
        "* a minimum of `3` samples per leaf node and\n",
        "* a minimum of `4` samples necessary to split a node."
      ]
    },
    {
      "cell_type": "code",
      "metadata": {
        "id": "g3ZMUNQN4B2Z"
      },
      "source": [
        "print_trial_results(trials_rf, best_run_rf)"
      ],
      "execution_count": null,
      "outputs": []
    },
    {
      "cell_type": "markdown",
      "metadata": {
        "id": "_mXJWKsG4B2a"
      },
      "source": [
        "### Performance for RF\n",
        "\n",
        "PR score of `0.9810`, with a precision of `0.967` and a recall of `0.955` in respect to the positive class.    \n"
      ]
    },
    {
      "cell_type": "code",
      "metadata": {
        "id": "zFluBR6R4B2b"
      },
      "source": [
        "clf_rf = jl.load(get_best_model_path(trials_rf))"
      ],
      "execution_count": null,
      "outputs": []
    },
    {
      "cell_type": "code",
      "metadata": {
        "id": "alC3EDbH4B2b"
      },
      "source": [
        "pred_val_proba_rf = predict_proba_positive(clf_rf, X_val)\n",
        "plot_pr_curve(y_val.label_is_attack.values, pred_val_proba_rf)"
      ],
      "execution_count": null,
      "outputs": []
    },
    {
      "cell_type": "code",
      "metadata": {
        "id": "jCZuS1a04B2c"
      },
      "source": [
        "pred_val_rf = clf_rf.predict(X_val)\n",
        "print_binary_performance(y_val, y_val.label_is_attack, pred_val_rf)"
      ],
      "execution_count": null,
      "outputs": []
    },
    {
      "cell_type": "markdown",
      "metadata": {
        "id": "lPrp0-W74B2c"
      },
      "source": [
        "## Gradient Boosted Tree Model + Hyperparameter Search-Space"
      ]
    },
    {
      "cell_type": "code",
      "metadata": {
        "id": "kojqOu624B2d"
      },
      "source": [
        "train_pool = Pool(X_train, y_train_is_attack)\n",
        "val_pool = Pool(X_val, y_val.label_is_attack)\n",
        "\n",
        "NR_LOGS = 10"
      ],
      "execution_count": null,
      "outputs": []
    },
    {
      "cell_type": "code",
      "metadata": {
        "id": "YYc4cMll4B2d"
      },
      "source": [
        "def train_gradient_boost(args):\n",
        "    print('\\nRun') \n",
        "    print('==========')\n",
        "    print('Parameters:\\n{}'.format(args))\n",
        "    \n",
        "    nr_iterations = int(args['nr_iterations'])\n",
        "    tree_depth = int(args['tree_depth'])\n",
        "    l2_reg = args['l2_reg']\n",
        "    border_count = int(args['border_count'])\n",
        "    random_strength = int(args['random_strength'])\n",
        "    \n",
        "    model_path = 'models/gb_{}.catboost'.format(uuid.uuid4())\n",
        "    \n",
        "    clf = CatBoostClassifier(loss_function='Logloss',                     \n",
        "                             iterations=nr_iterations,\n",
        "                             depth=tree_depth,\n",
        "                             l2_leaf_reg=l2_reg,\n",
        "                             border_count=border_count,\n",
        "                             random_strength=random_strength,\n",
        "                             task_type='GPU',\n",
        "                             class_weights=class_weights_catboost,\n",
        "                             verbose=(nr_iterations // NR_LOGS),\n",
        "                             random_seed=rand_state)\n",
        "\n",
        "    clf.fit(train_pool, eval_set=val_pool)\n",
        "    \n",
        "    pred = predict_proba_positive(clf, val_pool)\n",
        "    pr_score = average_precision_score(y_val.label_is_attack, pred)\n",
        "    \n",
        "    clf.save_model(model_path)\n",
        "    \n",
        "    print('PR Score: {}'.format(pr_score))\n",
        "    \n",
        "    return {\n",
        "        'loss': -pr_score,\n",
        "        'status': STATUS_OK,\n",
        "        'model_path': model_path\n",
        "    }"
      ],
      "execution_count": null,
      "outputs": []
    },
    {
      "cell_type": "code",
      "metadata": {
        "id": "n3RIbOJw4B2e"
      },
      "source": [
        "trials_gb = Trials()\n",
        "\n",
        "space = { \n",
        "    'nr_iterations': hp.quniform('nr_iterations', 100, 2000, 100),\n",
        "    'tree_depth': hp.quniform('tree_depth', 4, 10, 1),\n",
        "    'l2_reg': hp.uniform('l2_reg', 1, 10),\n",
        "    'border_count': hp.choice('border_count', [128, 254]),\n",
        "    'random_strength': hp.quniform('random_strength', 0, 5, 1)\n",
        "}\n",
        "\n",
        "best_run_gb = fmin(fn=train_gradient_boost,\n",
        "                   space=space,\n",
        "                   algo=tpe.suggest,\n",
        "                   max_evals=100,\n",
        "                   trials=trials_gb)"
      ],
      "execution_count": null,
      "outputs": []
    },
    {
      "cell_type": "markdown",
      "metadata": {
        "id": "X7WpJzpg4B2e"
      },
      "source": [
        "### Hyperparameter Search Results for GBT\n"
      ]
    },
    {
      "cell_type": "code",
      "metadata": {
        "id": "7xQxAYq14B2f"
      },
      "source": [
        "plt.figure(figsize=(20, 5))\n",
        "main_plot_history(trials_gb)\n",
        "\n",
        "plt.figure(figsize=(20, 20))\n",
        "main_plot_vars(trials_gb, columns=3, colorize_best=10, arrange_by_loss=False)"
      ],
      "execution_count": null,
      "outputs": []
    },
    {
      "cell_type": "markdown",
      "metadata": {
        "id": "CPpc0Kzk4B2f"
      },
      "source": [
        "Optimal Model Parameters for GBT\n",
        "\n",
        "The optimal parameter configuration obtained via the best performing model is as follows:\n",
        "* usage of `1900` trees, \n",
        "* a maximum depth of `10` per tree,\n",
        "* a L2 regularization coefficient of `4.8139`,\n",
        "* a border count of `254` and\n",
        "* a random strenght parameter of `5`."
      ]
    },
    {
      "cell_type": "code",
      "metadata": {
        "id": "38H8gCj54B2g"
      },
      "source": [
        "print_trial_results(trials_gb, best_run_gb)"
      ],
      "execution_count": null,
      "outputs": []
    },
    {
      "cell_type": "markdown",
      "metadata": {
        "id": "grIOLo4A4B2g"
      },
      "source": [
        "### Performance for GBT\n",
        "\n",
        "PR score of `0.9826`, \n",
        "Precision of `0.964` and a Recall of `0.957` for the positive class.    \n"
      ]
    },
    {
      "cell_type": "code",
      "metadata": {
        "id": "tRxDabRo4B2h"
      },
      "source": [
        "clf_gb = CatBoostClassifier()\n",
        "clf_gb.load_model(get_best_model_path(trials_gb))"
      ],
      "execution_count": null,
      "outputs": []
    },
    {
      "cell_type": "code",
      "metadata": {
        "id": "TgCPSg5L4B2h"
      },
      "source": [
        "pred_val_proba_gb = predict_proba_positive(clf_gb, val_pool)\n",
        "plot_pr_curve(y_val.label_is_attack.values, pred_val_proba_gb)"
      ],
      "execution_count": null,
      "outputs": []
    },
    {
      "cell_type": "code",
      "metadata": {
        "id": "GUi8lLRv4B2i"
      },
      "source": [
        "pred_val_gb = clf_gb.predict(X_val)\n",
        "print_binary_performance(y_val, y_val.label_is_attack, pred_val_gb)"
      ],
      "execution_count": null,
      "outputs": []
    },
    {
      "cell_type": "markdown",
      "metadata": {
        "id": "7AMmbOT34B2i"
      },
      "source": [
        "## 5. Deep Neural Network Model\n",
        "\n",
        "previous [experiment](https://github.com/MSaber9/2021Project3/blob/main/05_dl_classifier.ipynb)"
      ]
    },
    {
      "cell_type": "code",
      "metadata": {
        "colab": {
          "base_uri": "https://localhost:8080/"
        },
        "id": "-jibh1EjamSD",
        "outputId": "3055a58d-339a-439f-d516-3daaa77b3bfc"
      },
      "source": [
        "!ls"
      ],
      "execution_count": null,
      "outputs": [
        {
          "output_type": "stream",
          "text": [
            "01_data_cleanup.ipynb\t04_dl_anomaly_detection.ipynb  Dataupdate  models5\n",
            "02_data_analysis.ipynb\t05_dl_classifier.ipynb\t       mlids\t   processed\n",
            "03_ml_classifier.ipynb\tData\t\t\t       models4\t   tmp\n"
          ],
          "name": "stdout"
        }
      ]
    },
    {
      "cell_type": "code",
      "metadata": {
        "colab": {
          "base_uri": "https://localhost:8080/"
        },
        "id": "PYw5TDy8aZbf",
        "outputId": "5ff2a2c3-87be-4380-e603-15a816228de2"
      },
      "source": [
        "!ls '/content/drive/My Drive/Colab Notebooks/Newi/2021Project3/models4/'"
      ],
      "execution_count": null,
      "outputs": [
        {
          "output_type": "stream",
          "text": [
            "denoising_autoencoder_model.h5\tsimple_autoencoder_model.h5\n",
            "opt_model.h5\t\t\tstacked_autoencoder_model.h5\n"
          ],
          "name": "stdout"
        }
      ]
    },
    {
      "cell_type": "code",
      "metadata": {
        "id": "IK3Pd-MW4B2j"
      },
      "source": [
        "clf_dl = models.load_model('/content/drive/My Drive/Colab Notebooks/Newi/2021Project3/models4/opt_model.h5')"
      ],
      "execution_count": null,
      "outputs": []
    },
    {
      "cell_type": "code",
      "metadata": {
        "id": "SlsVn2314B2j"
      },
      "source": [
        "pred_val_proba_dl = kp.predict_proba(clf_dl, X_val)\n",
        "plot_pr_curve(y_val.label_is_attack.values, pred_val_proba_dl)"
      ],
      "execution_count": null,
      "outputs": []
    },
    {
      "cell_type": "code",
      "metadata": {
        "id": "XX0dBMUW4B2k"
      },
      "source": [
        "pred_val_dl = kp.predict(clf_dl, X_val)\n",
        "print_binary_performance(y_val, y_val.label_is_attack, pred_val_dl)"
      ],
      "execution_count": null,
      "outputs": []
    },
    {
      "cell_type": "markdown",
      "metadata": {
        "id": "XONvmA7y4B2k"
      },
      "source": [
        "## Model Comparison"
      ]
    },
    {
      "cell_type": "code",
      "metadata": {
        "id": "ZfrwtjNv4B2l"
      },
      "source": [
        "plot_pr_curves(y_val.label_is_attack, \n",
        "               {\n",
        "                   'Random Forest': pred_val_proba_rf,\n",
        "                   'Gradient Boost': pred_val_proba_gb,\n",
        "                   'Neural Network': pred_val_proba_dl\n",
        "               }, \n",
        "               size=(20, 8))"
      ],
      "execution_count": null,
      "outputs": []
    },
    {
      "cell_type": "markdown",
      "metadata": {
        "id": "IdeLccx84B2m"
      },
      "source": [
        "\n",
        "|Model|PR Score|Precision Positive|Recall Positive|False-Positives|False-Negatives|\n",
        "|---|---|---|---|---|---|\n",
        "|Random Forest         |0.98102|**0.967**|0.955|**8820**|12322|\n",
        "|Gradient Boosted Trees|**0.98266**|0.964|**0.957**|9784|**11748**|\n",
        "|Deep Neural Network   |0.97816|**0.967**|0.954|8966|12629|\n",
        "\n",
        "> Gradient Bosted Tree model going forward, as it achieves the best overall performance."
      ]
    },
    {
      "cell_type": "markdown",
      "metadata": {
        "id": "UWH3LqaZ4B2m"
      },
      "source": [
        "## Precision / Recall Decision Boundary\n"
      ]
    },
    {
      "cell_type": "code",
      "metadata": {
        "id": "MjSoZZyM4B2m"
      },
      "source": [
        "plot_pr_threshold_curves(y_val.label_is_attack, pred_val_proba_gb)"
      ],
      "execution_count": null,
      "outputs": []
    },
    {
      "cell_type": "code",
      "metadata": {
        "id": "4y3BMWsC4B2n"
      },
      "source": [
        "recalls = np.arange(0.96, 1, 0.01)\n",
        "\n",
        "pred_val_proba_gb = predict_proba_positive(clf_gb, X_val)\n",
        "\n",
        "for recall in recalls:\n",
        "    b = best_precision_for_target_recall(y_val.label_is_attack, pred_val_proba_gb, target_recall=recall)\n",
        "    pred_val_gb = predict_decision_boundary(clf_gb, X_val, b)\n",
        "    print('Target Recall of {}'.format(recall))\n",
        "    print('=====================')\n",
        "    print('Decision Boundary: {}\\n'.format(b))\n",
        "    print(classification_report(y_val.label_is_attack, pred_val_gb, digits=3))\n",
        "    print('')"
      ],
      "execution_count": null,
      "outputs": []
    },
    {
      "cell_type": "markdown",
      "metadata": {
        "id": "bwApTiIJ4B2o"
      },
      "source": [
        "\n",
        "\n",
        "|Decision Boundary|Precision Positive|Recall Positive|F1 (macro)|\n",
        "|---|---|---|---|\n",
        "|0.5 (default)|0.964|0.957|0.976|\n",
        "|0.3556       |0.952|0.960|0.974|\n",
        "|0.0786       |0.774|0.970|0.914|\n",
        "|0.0539       |0.543|0.980|0.803|\n",
        "|0.0420       |0.380|0.990|0.675|\n",
        "|0.0007       |0.201|1.000|0.327|\n"
      ]
    },
    {
      "cell_type": "markdown",
      "metadata": {
        "id": "XAQpAjkv4B2o"
      },
      "source": [
        "Performance on Test Set"
      ]
    },
    {
      "cell_type": "code",
      "metadata": {
        "id": "q6iek2Jn4B2p"
      },
      "source": [
        "pred_test_gb = clf_gb.predict(X_test)\n",
        "print_binary_performance(y_test, y_test.label_is_attack, pred_test_gb)"
      ],
      "execution_count": null,
      "outputs": []
    }
  ]
}