{
  "nbformat": 4,
  "nbformat_minor": 0,
  "metadata": {
    "colab": {
      "name": "1_data_cleanup.ipynb",
      "provenance": [],
      "collapsed_sections": [],
      "machine_shape": "hm",
      "authorship_tag": "ABX9TyPAphN7FAh/9+u6Q9JONCw1",
      "include_colab_link": true
    },
    "kernelspec": {
      "name": "python3",
      "display_name": "Python 3"
    },
    "language_info": {
      "name": "python"
    },
    "accelerator": "GPU"
  },
  "cells": [
    {
      "cell_type": "markdown",
      "metadata": {
        "id": "view-in-github",
        "colab_type": "text"
      },
      "source": [
        "<a href=\"https://colab.research.google.com/github/MSaber9/2021Project3/blob/main/1_data_cleanup.ipynb\" target=\"_parent\"><img src=\"https://colab.research.google.com/assets/colab-badge.svg\" alt=\"Open In Colab\"/></a>"
      ]
    },
    {
      "cell_type": "code",
      "metadata": {
        "id": "Xd0fp_aXkJR6"
      },
      "source": [
        "import numpy as np\n",
        "import pandas as pd\n",
        "import os"
      ],
      "execution_count": null,
      "outputs": []
    },
    {
      "cell_type": "code",
      "metadata": {
        "colab": {
          "base_uri": "https://localhost:8080/"
        },
        "id": "wlCiPZKuXRT_",
        "outputId": "361d6afd-a74d-48ae-f18d-a03d65ced439"
      },
      "source": [
        "from google.colab import drive\n",
        "drive.mount('/content/drive')"
      ],
      "execution_count": null,
      "outputs": [
        {
          "output_type": "stream",
          "text": [
            "Mounted at /content/drive\n"
          ],
          "name": "stdout"
        }
      ]
    },
    {
      "cell_type": "code",
      "metadata": {
        "colab": {
          "base_uri": "https://localhost:8080/"
        },
        "id": "EcKLx5jddZnX",
        "outputId": "72e2a8cd-a6cf-4bd0-e5b6-16c7c02cb0d1"
      },
      "source": [
        "!ls"
      ],
      "execution_count": null,
      "outputs": [
        {
          "output_type": "stream",
          "text": [
            "drive  sample_data\n"
          ],
          "name": "stdout"
        }
      ]
    },
    {
      "cell_type": "code",
      "metadata": {
        "id": "gwKpkPI4Xjej",
        "colab": {
          "base_uri": "https://localhost:8080/"
        },
        "outputId": "8941ff61-df1a-4b63-8c82-51869900614f"
      },
      "source": [
        "!ls '/content/drive/My Drive/Colab Notebooks/Newi/2021Project3'"
      ],
      "execution_count": null,
      "outputs": [
        {
          "output_type": "stream",
          "text": [
            "Data  DataCleanup.ipynb\n"
          ],
          "name": "stdout"
        }
      ]
    },
    {
      "cell_type": "code",
      "metadata": {
        "id": "a4LCTiCuYESf",
        "colab": {
          "base_uri": "https://localhost:8080/"
        },
        "outputId": "bd5ca5af-f505-4d8e-b6c6-16be3fd43398"
      },
      "source": [
        "!ls '/content/drive/My Drive/Colab Notebooks/Newi/2021Project3/Dataupdate'"
      ],
      "execution_count": null,
      "outputs": [
        {
          "output_type": "stream",
          "text": [
            "bot_02-03-2018.csv\n",
            "bruteforce-ftp-ssh_14-02-2018.csv\n",
            "bruteforce-web-xss_sql-injection_22-02-2018.csv\n",
            "bruteforce-web-xss_sql-injection_23-02-2018.csv\n",
            "ddos-loic-http-loic-udp_20-02-2018.csv\n",
            "ddos-loic-udp_hoic_21-02-2018.csv\n",
            "dos-goldeneye-slowloris_15-02-2018.csv\n",
            "dos-slowhttp-hulk_16-02-2018.csv\n",
            "infiltration_01-03-2018.csv\n",
            "infiltration_28-02-2018.csv\n"
          ],
          "name": "stdout"
        }
      ]
    },
    {
      "cell_type": "code",
      "metadata": {
        "id": "ThsRAsitYNOu",
        "colab": {
          "base_uri": "https://localhost:8080/"
        },
        "outputId": "bb26a244-66b7-4958-ab5a-1aef7198e795"
      },
      "source": [
        "%cd /content/drive/My Drive/Colab Notebooks/Newi/2021Project3/"
      ],
      "execution_count": null,
      "outputs": [
        {
          "output_type": "stream",
          "text": [
            "/content/drive/My Drive/Colab Notebooks/Newi/2021Project3\n"
          ],
          "name": "stdout"
        }
      ]
    },
    {
      "cell_type": "code",
      "metadata": {
        "colab": {
          "base_uri": "https://localhost:8080/"
        },
        "id": "Ds3gWqS2ZMTP",
        "outputId": "1670dd3f-a678-42c2-ae47-040d273caedb"
      },
      "source": [
        "!ls"
      ],
      "execution_count": null,
      "outputs": [
        {
          "output_type": "stream",
          "text": [
            "Data  DataCleanup.ipynb  Thursday-01-03-2018_TrafficForML_CICFlowMeter.csv\n"
          ],
          "name": "stdout"
        }
      ]
    },
    {
      "cell_type": "code",
      "metadata": {
        "id": "dMyiEuWrd6NA"
      },
      "source": [
        "dataset_base_path = '/content/drive/My Drive/Colab Notebooks/Newi/2021Project3/Data'"
      ],
      "execution_count": null,
      "outputs": []
    },
    {
      "cell_type": "code",
      "metadata": {
        "id": "6QpSTYcqZFA1"
      },
      "source": [
        "file_path = os.path.join(dataset_base_path, 'Thursday-01-03-2018_TrafficForML_CICFlowMeter.csv')\n",
        "\n",
        "df = pd.read_csv(file_path)"
      ],
      "execution_count": null,
      "outputs": []
    },
    {
      "cell_type": "code",
      "metadata": {
        "colab": {
          "base_uri": "https://localhost:8080/",
          "height": 219
        },
        "id": "NVkjUVr5e017",
        "outputId": "3d3c954d-ed0e-4836-fbe8-5476423f1454"
      },
      "source": [
        "df.head(2)\n"
      ],
      "execution_count": null,
      "outputs": [
        {
          "output_type": "execute_result",
          "data": {
            "text/html": [
              "<div>\n",
              "<style scoped>\n",
              "    .dataframe tbody tr th:only-of-type {\n",
              "        vertical-align: middle;\n",
              "    }\n",
              "\n",
              "    .dataframe tbody tr th {\n",
              "        vertical-align: top;\n",
              "    }\n",
              "\n",
              "    .dataframe thead th {\n",
              "        text-align: right;\n",
              "    }\n",
              "</style>\n",
              "<table border=\"1\" class=\"dataframe\">\n",
              "  <thead>\n",
              "    <tr style=\"text-align: right;\">\n",
              "      <th></th>\n",
              "      <th>Dst Port</th>\n",
              "      <th>Protocol</th>\n",
              "      <th>Timestamp</th>\n",
              "      <th>Flow Duration</th>\n",
              "      <th>Tot Fwd Pkts</th>\n",
              "      <th>Tot Bwd Pkts</th>\n",
              "      <th>TotLen Fwd Pkts</th>\n",
              "      <th>TotLen Bwd Pkts</th>\n",
              "      <th>Fwd Pkt Len Max</th>\n",
              "      <th>Fwd Pkt Len Min</th>\n",
              "      <th>Fwd Pkt Len Mean</th>\n",
              "      <th>Fwd Pkt Len Std</th>\n",
              "      <th>Bwd Pkt Len Max</th>\n",
              "      <th>Bwd Pkt Len Min</th>\n",
              "      <th>Bwd Pkt Len Mean</th>\n",
              "      <th>Bwd Pkt Len Std</th>\n",
              "      <th>Flow Byts/s</th>\n",
              "      <th>Flow Pkts/s</th>\n",
              "      <th>Flow IAT Mean</th>\n",
              "      <th>Flow IAT Std</th>\n",
              "      <th>Flow IAT Max</th>\n",
              "      <th>Flow IAT Min</th>\n",
              "      <th>Fwd IAT Tot</th>\n",
              "      <th>Fwd IAT Mean</th>\n",
              "      <th>Fwd IAT Std</th>\n",
              "      <th>Fwd IAT Max</th>\n",
              "      <th>Fwd IAT Min</th>\n",
              "      <th>Bwd IAT Tot</th>\n",
              "      <th>Bwd IAT Mean</th>\n",
              "      <th>Bwd IAT Std</th>\n",
              "      <th>Bwd IAT Max</th>\n",
              "      <th>Bwd IAT Min</th>\n",
              "      <th>Fwd PSH Flags</th>\n",
              "      <th>Bwd PSH Flags</th>\n",
              "      <th>Fwd URG Flags</th>\n",
              "      <th>Bwd URG Flags</th>\n",
              "      <th>Fwd Header Len</th>\n",
              "      <th>Bwd Header Len</th>\n",
              "      <th>Fwd Pkts/s</th>\n",
              "      <th>Bwd Pkts/s</th>\n",
              "      <th>Pkt Len Min</th>\n",
              "      <th>Pkt Len Max</th>\n",
              "      <th>Pkt Len Mean</th>\n",
              "      <th>Pkt Len Std</th>\n",
              "      <th>Pkt Len Var</th>\n",
              "      <th>FIN Flag Cnt</th>\n",
              "      <th>SYN Flag Cnt</th>\n",
              "      <th>RST Flag Cnt</th>\n",
              "      <th>PSH Flag Cnt</th>\n",
              "      <th>ACK Flag Cnt</th>\n",
              "      <th>URG Flag Cnt</th>\n",
              "      <th>CWE Flag Count</th>\n",
              "      <th>ECE Flag Cnt</th>\n",
              "      <th>Down/Up Ratio</th>\n",
              "      <th>Pkt Size Avg</th>\n",
              "      <th>Fwd Seg Size Avg</th>\n",
              "      <th>Bwd Seg Size Avg</th>\n",
              "      <th>Fwd Byts/b Avg</th>\n",
              "      <th>Fwd Pkts/b Avg</th>\n",
              "      <th>Fwd Blk Rate Avg</th>\n",
              "      <th>Bwd Byts/b Avg</th>\n",
              "      <th>Bwd Pkts/b Avg</th>\n",
              "      <th>Bwd Blk Rate Avg</th>\n",
              "      <th>Subflow Fwd Pkts</th>\n",
              "      <th>Subflow Fwd Byts</th>\n",
              "      <th>Subflow Bwd Pkts</th>\n",
              "      <th>Subflow Bwd Byts</th>\n",
              "      <th>Init Fwd Win Byts</th>\n",
              "      <th>Init Bwd Win Byts</th>\n",
              "      <th>Fwd Act Data Pkts</th>\n",
              "      <th>Fwd Seg Size Min</th>\n",
              "      <th>Active Mean</th>\n",
              "      <th>Active Std</th>\n",
              "      <th>Active Max</th>\n",
              "      <th>Active Min</th>\n",
              "      <th>Idle Mean</th>\n",
              "      <th>Idle Std</th>\n",
              "      <th>Idle Max</th>\n",
              "      <th>Idle Min</th>\n",
              "      <th>Label</th>\n",
              "    </tr>\n",
              "  </thead>\n",
              "  <tbody>\n",
              "    <tr>\n",
              "      <th>0</th>\n",
              "      <td>0</td>\n",
              "      <td>0</td>\n",
              "      <td>01/03/2018 08:17:11</td>\n",
              "      <td>115307855</td>\n",
              "      <td>5</td>\n",
              "      <td>0</td>\n",
              "      <td>0</td>\n",
              "      <td>0</td>\n",
              "      <td>0</td>\n",
              "      <td>0</td>\n",
              "      <td>0.0</td>\n",
              "      <td>0.0</td>\n",
              "      <td>0</td>\n",
              "      <td>0</td>\n",
              "      <td>0.0</td>\n",
              "      <td>0.0</td>\n",
              "      <td>0.0</td>\n",
              "      <td>0.043362</td>\n",
              "      <td>28800000.0</td>\n",
              "      <td>32400000.0</td>\n",
              "      <td>61000000</td>\n",
              "      <td>812396</td>\n",
              "      <td>115000000</td>\n",
              "      <td>28800000.0</td>\n",
              "      <td>32400000.0</td>\n",
              "      <td>61000000</td>\n",
              "      <td>812396</td>\n",
              "      <td>0</td>\n",
              "      <td>0.0</td>\n",
              "      <td>0.0</td>\n",
              "      <td>0</td>\n",
              "      <td>0</td>\n",
              "      <td>0</td>\n",
              "      <td>0</td>\n",
              "      <td>0</td>\n",
              "      <td>0</td>\n",
              "      <td>0</td>\n",
              "      <td>0</td>\n",
              "      <td>0.043362</td>\n",
              "      <td>0.0</td>\n",
              "      <td>0</td>\n",
              "      <td>0</td>\n",
              "      <td>0.0</td>\n",
              "      <td>0.0</td>\n",
              "      <td>0.0</td>\n",
              "      <td>0</td>\n",
              "      <td>0</td>\n",
              "      <td>0</td>\n",
              "      <td>0</td>\n",
              "      <td>0</td>\n",
              "      <td>0</td>\n",
              "      <td>0</td>\n",
              "      <td>0</td>\n",
              "      <td>0</td>\n",
              "      <td>0.0</td>\n",
              "      <td>0.0</td>\n",
              "      <td>0.0</td>\n",
              "      <td>0</td>\n",
              "      <td>0</td>\n",
              "      <td>0</td>\n",
              "      <td>0</td>\n",
              "      <td>0</td>\n",
              "      <td>0</td>\n",
              "      <td>5</td>\n",
              "      <td>0</td>\n",
              "      <td>0</td>\n",
              "      <td>0</td>\n",
              "      <td>-1</td>\n",
              "      <td>-1</td>\n",
              "      <td>0</td>\n",
              "      <td>0</td>\n",
              "      <td>1812348.0</td>\n",
              "      <td>0.0</td>\n",
              "      <td>1812348</td>\n",
              "      <td>1812348</td>\n",
              "      <td>56700000.0</td>\n",
              "      <td>6010057.622</td>\n",
              "      <td>61000000</td>\n",
              "      <td>52500000</td>\n",
              "      <td>Benign</td>\n",
              "    </tr>\n",
              "    <tr>\n",
              "      <th>1</th>\n",
              "      <td>0</td>\n",
              "      <td>0</td>\n",
              "      <td>01/03/2018 08:20:07</td>\n",
              "      <td>60997457</td>\n",
              "      <td>2</td>\n",
              "      <td>0</td>\n",
              "      <td>0</td>\n",
              "      <td>0</td>\n",
              "      <td>0</td>\n",
              "      <td>0</td>\n",
              "      <td>0.0</td>\n",
              "      <td>0.0</td>\n",
              "      <td>0</td>\n",
              "      <td>0</td>\n",
              "      <td>0.0</td>\n",
              "      <td>0.0</td>\n",
              "      <td>0.0</td>\n",
              "      <td>0.032788</td>\n",
              "      <td>61000000.0</td>\n",
              "      <td>0.0</td>\n",
              "      <td>61000000</td>\n",
              "      <td>61000000</td>\n",
              "      <td>61000000</td>\n",
              "      <td>61000000.0</td>\n",
              "      <td>0.0</td>\n",
              "      <td>61000000</td>\n",
              "      <td>61000000</td>\n",
              "      <td>0</td>\n",
              "      <td>0.0</td>\n",
              "      <td>0.0</td>\n",
              "      <td>0</td>\n",
              "      <td>0</td>\n",
              "      <td>0</td>\n",
              "      <td>0</td>\n",
              "      <td>0</td>\n",
              "      <td>0</td>\n",
              "      <td>0</td>\n",
              "      <td>0</td>\n",
              "      <td>0.032788</td>\n",
              "      <td>0.0</td>\n",
              "      <td>0</td>\n",
              "      <td>0</td>\n",
              "      <td>0.0</td>\n",
              "      <td>0.0</td>\n",
              "      <td>0.0</td>\n",
              "      <td>0</td>\n",
              "      <td>0</td>\n",
              "      <td>0</td>\n",
              "      <td>0</td>\n",
              "      <td>0</td>\n",
              "      <td>0</td>\n",
              "      <td>0</td>\n",
              "      <td>0</td>\n",
              "      <td>0</td>\n",
              "      <td>0.0</td>\n",
              "      <td>0.0</td>\n",
              "      <td>0.0</td>\n",
              "      <td>0</td>\n",
              "      <td>0</td>\n",
              "      <td>0</td>\n",
              "      <td>0</td>\n",
              "      <td>0</td>\n",
              "      <td>0</td>\n",
              "      <td>2</td>\n",
              "      <td>0</td>\n",
              "      <td>0</td>\n",
              "      <td>0</td>\n",
              "      <td>-1</td>\n",
              "      <td>-1</td>\n",
              "      <td>0</td>\n",
              "      <td>0</td>\n",
              "      <td>0.0</td>\n",
              "      <td>0.0</td>\n",
              "      <td>0</td>\n",
              "      <td>0</td>\n",
              "      <td>61000000.0</td>\n",
              "      <td>0.000</td>\n",
              "      <td>61000000</td>\n",
              "      <td>61000000</td>\n",
              "      <td>Benign</td>\n",
              "    </tr>\n",
              "  </tbody>\n",
              "</table>\n",
              "</div>"
            ],
            "text/plain": [
              "   Dst Port  Protocol            Timestamp  ...  Idle Max  Idle Min   Label\n",
              "0         0         0  01/03/2018 08:17:11  ...  61000000  52500000  Benign\n",
              "1         0         0  01/03/2018 08:20:07  ...  61000000  61000000  Benign\n",
              "\n",
              "[2 rows x 80 columns]"
            ]
          },
          "metadata": {
            "tags": []
          },
          "execution_count": 15
        }
      ]
    },
    {
      "cell_type": "code",
      "metadata": {
        "colab": {
          "base_uri": "https://localhost:8080/"
        },
        "id": "GRdlUz1fOIGv",
        "outputId": "d5404567-fbf4-4ad2-d0e6-21e35dc619f0"
      },
      "source": [
        "df.info()"
      ],
      "execution_count": null,
      "outputs": [
        {
          "output_type": "stream",
          "text": [
            "<class 'pandas.core.frame.DataFrame'>\n",
            "RangeIndex: 331100 entries, 0 to 331099\n",
            "Data columns (total 80 columns):\n",
            " #   Column             Non-Null Count   Dtype  \n",
            "---  ------             --------------   -----  \n",
            " 0   Dst Port           331100 non-null  int64  \n",
            " 1   Protocol           331100 non-null  int64  \n",
            " 2   Timestamp          331100 non-null  object \n",
            " 3   Flow Duration      331100 non-null  int64  \n",
            " 4   Tot Fwd Pkts       331100 non-null  int64  \n",
            " 5   Tot Bwd Pkts       331100 non-null  int64  \n",
            " 6   TotLen Fwd Pkts    331100 non-null  int64  \n",
            " 7   TotLen Bwd Pkts    331100 non-null  int64  \n",
            " 8   Fwd Pkt Len Max    331100 non-null  int64  \n",
            " 9   Fwd Pkt Len Min    331100 non-null  int64  \n",
            " 10  Fwd Pkt Len Mean   331100 non-null  float64\n",
            " 11  Fwd Pkt Len Std    331100 non-null  float64\n",
            " 12  Bwd Pkt Len Max    331100 non-null  int64  \n",
            " 13  Bwd Pkt Len Min    331100 non-null  int64  \n",
            " 14  Bwd Pkt Len Mean   331100 non-null  float64\n",
            " 15  Bwd Pkt Len Std    331100 non-null  float64\n",
            " 16  Flow Byts/s        329266 non-null  float64\n",
            " 17  Flow Pkts/s        331100 non-null  float64\n",
            " 18  Flow IAT Mean      331100 non-null  float64\n",
            " 19  Flow IAT Std       331100 non-null  float64\n",
            " 20  Flow IAT Max       331100 non-null  int64  \n",
            " 21  Flow IAT Min       331100 non-null  int64  \n",
            " 22  Fwd IAT Tot        331100 non-null  int64  \n",
            " 23  Fwd IAT Mean       331100 non-null  float64\n",
            " 24  Fwd IAT Std        331100 non-null  float64\n",
            " 25  Fwd IAT Max        331100 non-null  int64  \n",
            " 26  Fwd IAT Min        331100 non-null  int64  \n",
            " 27  Bwd IAT Tot        331100 non-null  int64  \n",
            " 28  Bwd IAT Mean       331100 non-null  float64\n",
            " 29  Bwd IAT Std        331100 non-null  float64\n",
            " 30  Bwd IAT Max        331100 non-null  int64  \n",
            " 31  Bwd IAT Min        331100 non-null  int64  \n",
            " 32  Fwd PSH Flags      331100 non-null  int64  \n",
            " 33  Bwd PSH Flags      331100 non-null  int64  \n",
            " 34  Fwd URG Flags      331100 non-null  int64  \n",
            " 35  Bwd URG Flags      331100 non-null  int64  \n",
            " 36  Fwd Header Len     331100 non-null  int64  \n",
            " 37  Bwd Header Len     331100 non-null  int64  \n",
            " 38  Fwd Pkts/s         331100 non-null  float64\n",
            " 39  Bwd Pkts/s         331100 non-null  float64\n",
            " 40  Pkt Len Min        331100 non-null  int64  \n",
            " 41  Pkt Len Max        331100 non-null  int64  \n",
            " 42  Pkt Len Mean       331100 non-null  float64\n",
            " 43  Pkt Len Std        331100 non-null  float64\n",
            " 44  Pkt Len Var        331100 non-null  float64\n",
            " 45  FIN Flag Cnt       331100 non-null  int64  \n",
            " 46  SYN Flag Cnt       331100 non-null  int64  \n",
            " 47  RST Flag Cnt       331100 non-null  int64  \n",
            " 48  PSH Flag Cnt       331100 non-null  int64  \n",
            " 49  ACK Flag Cnt       331100 non-null  int64  \n",
            " 50  URG Flag Cnt       331100 non-null  int64  \n",
            " 51  CWE Flag Count     331100 non-null  int64  \n",
            " 52  ECE Flag Cnt       331100 non-null  int64  \n",
            " 53  Down/Up Ratio      331100 non-null  int64  \n",
            " 54  Pkt Size Avg       331100 non-null  float64\n",
            " 55  Fwd Seg Size Avg   331100 non-null  float64\n",
            " 56  Bwd Seg Size Avg   331100 non-null  float64\n",
            " 57  Fwd Byts/b Avg     331100 non-null  int64  \n",
            " 58  Fwd Pkts/b Avg     331100 non-null  int64  \n",
            " 59  Fwd Blk Rate Avg   331100 non-null  int64  \n",
            " 60  Bwd Byts/b Avg     331100 non-null  int64  \n",
            " 61  Bwd Pkts/b Avg     331100 non-null  int64  \n",
            " 62  Bwd Blk Rate Avg   331100 non-null  int64  \n",
            " 63  Subflow Fwd Pkts   331100 non-null  int64  \n",
            " 64  Subflow Fwd Byts   331100 non-null  int64  \n",
            " 65  Subflow Bwd Pkts   331100 non-null  int64  \n",
            " 66  Subflow Bwd Byts   331100 non-null  int64  \n",
            " 67  Init Fwd Win Byts  331100 non-null  int64  \n",
            " 68  Init Bwd Win Byts  331100 non-null  int64  \n",
            " 69  Fwd Act Data Pkts  331100 non-null  int64  \n",
            " 70  Fwd Seg Size Min   331100 non-null  int64  \n",
            " 71  Active Mean        331100 non-null  float64\n",
            " 72  Active Std         331100 non-null  float64\n",
            " 73  Active Max         331100 non-null  int64  \n",
            " 74  Active Min         331100 non-null  int64  \n",
            " 75  Idle Mean          331100 non-null  float64\n",
            " 76  Idle Std           331100 non-null  float64\n",
            " 77  Idle Max           331100 non-null  int64  \n",
            " 78  Idle Min           331100 non-null  int64  \n",
            " 79  Label              331100 non-null  object \n",
            "dtypes: float64(24), int64(54), object(2)\n",
            "memory usage: 202.1+ MB\n"
          ],
          "name": "stdout"
        }
      ]
    },
    {
      "cell_type": "code",
      "metadata": {
        "id": "86Ged2f5eP0r"
      },
      "source": [
        ""
      ],
      "execution_count": null,
      "outputs": []
    },
    {
      "cell_type": "code",
      "metadata": {
        "colab": {
          "base_uri": "https://localhost:8080/"
        },
        "id": "IVdqZQFpOOU6",
        "outputId": "3816cfaa-5dd1-426c-fac3-5f90eaab0202"
      },
      "source": [
        "df['Protocol'].value_counts()"
      ],
      "execution_count": null,
      "outputs": [
        {
          "output_type": "execute_result",
          "data": {
            "text/plain": [
              "6     212899\n",
              "17    111052\n",
              "0       7149\n",
              "Name: Protocol, dtype: int64"
            ]
          },
          "metadata": {
            "tags": []
          },
          "execution_count": 16
        }
      ]
    },
    {
      "cell_type": "code",
      "metadata": {
        "colab": {
          "base_uri": "https://localhost:8080/"
        },
        "id": "2SQcqLj7OOSR",
        "outputId": "22fa847e-8f22-4fcd-9846-fd6a21fc5435"
      },
      "source": [
        "df['FIN Flag Cnt'].value_counts()"
      ],
      "execution_count": null,
      "outputs": [
        {
          "output_type": "execute_result",
          "data": {
            "text/plain": [
              "0    329149\n",
              "1      1951\n",
              "Name: FIN Flag Cnt, dtype: int64"
            ]
          },
          "metadata": {
            "tags": []
          },
          "execution_count": 17
        }
      ]
    },
    {
      "cell_type": "code",
      "metadata": {
        "id": "Vsf85rq_SX0m"
      },
      "source": [
        "df['Dst Port'] = df['Dst Port'].astype(str)"
      ],
      "execution_count": null,
      "outputs": []
    },
    {
      "cell_type": "code",
      "metadata": {
        "id": "6sD8uL3UOOP9"
      },
      "source": [
        "df = df[~df['Dst Port'].str.contains('Dst Port', na=False)]"
      ],
      "execution_count": null,
      "outputs": []
    },
    {
      "cell_type": "code",
      "metadata": {
        "colab": {
          "base_uri": "https://localhost:8080/",
          "height": 36
        },
        "id": "o9_V9NGzTiFr",
        "outputId": "3bf2b5b8-35b0-4041-d5b6-8acdf8bd9c82"
      },
      "source": [
        "dataset_base_path"
      ],
      "execution_count": null,
      "outputs": [
        {
          "output_type": "execute_result",
          "data": {
            "application/vnd.google.colaboratory.intrinsic+json": {
              "type": "string"
            },
            "text/plain": [
              "'/content/drive/My Drive/Colab Notebooks/Newi/2021Project3/'"
            ]
          },
          "metadata": {
            "tags": []
          },
          "execution_count": 28
        }
      ]
    },
    {
      "cell_type": "code",
      "metadata": {
        "id": "ZFrHLLcIUToZ"
      },
      "source": [
        "import re\n",
        "\n",
        "tmp_path = os.path.join(dataset_base_path, 'tmp')\n",
        "\n",
        "if not os.path.exists(tmp_path):\n",
        "    os.mkdir(tmp_path)\n",
        "\n",
        "column_name_regex = re.compile(r\"\\W\", re.IGNORECASE)\n",
        "df.columns = [column_name_regex.sub('_', c.lower()) for c in df.columns]\n",
        "\n",
        "tmp_file_path = os.path.join(tmp_path, 'Thursday-01-03-2018_TrafficForML_CICFlowMeter_duplicate_headers_removed.csv')\n",
        "\n",
        "df.to_csv(tmp_file_path)"
      ],
      "execution_count": null,
      "outputs": []
    },
    {
      "cell_type": "code",
      "metadata": {
        "id": "sMmJgGjrUTk0"
      },
      "source": [
        "types = {\n",
        "    'dst_port': 'uint32',\n",
        "    'protocol': 'uint8',\n",
        "    'timestamp': 'object',\n",
        "    'flow_duration': 'int64',\n",
        "    'tot_fwd_pkts': 'uint32',\n",
        "    'tot_bwd_pkts': 'uint32',\n",
        "    'totlen_fwd_pkts': 'uint32',\n",
        "    'totlen_bwd_pkts': 'uint32',\n",
        "    'fwd_pkt_len_max': 'uint16',\n",
        "    'fwd_pkt_len_min': 'uint16',\n",
        "    'fwd_pkt_len_mean': 'float32',\n",
        "    'fwd_pkt_len_std': 'float32',\n",
        "    'bwd_pkt_len_max': 'uint16',\n",
        "    'bwd_pkt_len_min': 'uint16',\n",
        "    'bwd_pkt_len_mean': 'float32',\n",
        "    'bwd_pkt_len_std': 'float32',\n",
        "    'flow_byts_s': 'float64',\n",
        "    'flow_pkts_s': 'float64',\n",
        "    'flow_iat_mean': 'float32',\n",
        "    'flow_iat_std': 'float32',\n",
        "    'flow_iat_max': 'int64',\n",
        "    'flow_iat_min': 'int64',\n",
        "    'fwd_iat_tot': 'int64',\n",
        "    'fwd_iat_mean': 'float32',\n",
        "    'fwd_iat_std': 'float32',\n",
        "    'fwd_iat_max': 'int64',\n",
        "    'fwd_iat_min': 'int64',\n",
        "    'bwd_iat_tot': 'uint32',\n",
        "    'bwd_iat_mean': 'float32',\n",
        "    'bwd_iat_std': 'float32',\n",
        "    'bwd_iat_max': 'uint32',\n",
        "    'bwd_iat_min': 'uint32',\n",
        "    'fwd_psh_flags': 'uint8',\n",
        "    'bwd_psh_flags': 'uint8',\n",
        "    'fwd_urg_flags': 'uint8',\n",
        "    'bwd_urg_flags': 'uint8',\n",
        "    'fwd_header_len': 'uint32',\n",
        "    'bwd_header_len': 'uint32',\n",
        "    'flow_byts_s': 'float32',\n",
        "    'bwd_pkts_s': 'float32',\n",
        "    'pkt_len_min': 'uint16',\n",
        "    'pkt_len_max': 'uint16',\n",
        "    'pkt_len_mean': 'float32',\n",
        "    'pkt_len_std': 'float32',\n",
        "    'pkt_len_var': 'float32',\n",
        "    'fin_flag_cnt': 'uint8',\n",
        "    'syn_flag_cnt': 'uint8',\n",
        "    'rst_flag_cnt': 'uint8',\n",
        "    'psh_flag_cnt': 'uint8',\n",
        "    'ack_flag_cnt': 'uint8',\n",
        "    'urg_flag_cnt': 'uint8',\n",
        "    'cwe_flag_count': 'uint8',\n",
        "    'ece_flag_cnt': 'uint8',\n",
        "    'down_up_ratio': 'uint16',\n",
        "    'pkt_size_avg': 'float32',\n",
        "    'fwd_seg_size_avg': 'float32',\n",
        "    'bwd_seg_size_avg': 'float32',\n",
        "    'fwd_byts_b_avg': 'uint8',\n",
        "    'fwd_pkts_b_avg': 'uint8',\n",
        "    'fwd_blk_rate_avg': 'uint8',\n",
        "    'bwd_byts_b_avg': 'uint8',\n",
        "    'bwd_pkts_b_avg': 'uint8',\n",
        "    'bwd_blk_rate_avg': 'uint8',\n",
        "    'subflow_fwd_pkts': 'uint32',\n",
        "    'subflow_fwd_byts': 'uint32',\n",
        "    'subflow_bwd_pkts': 'uint32',\n",
        "    'subflow_bwd_byts': 'uint32',\n",
        "    'init_fwd_win_byts': 'int32',\n",
        "    'init_bwd_win_byts': 'int32',\n",
        "    'fwd_act_data_pkts': 'uint32',\n",
        "    'fwd_seg_size_min': 'uint8',\n",
        "    'active_mean': 'float32',\n",
        "    'active_std': 'float32',\n",
        "    'active_max': 'uint32',\n",
        "    'active_min': 'uint32',\n",
        "    'idle_mean': 'float32',\n",
        "    'idle_std': 'float32',\n",
        "    'idle_max': 'uint64',\n",
        "    'idle_min': 'uint64',\n",
        "    'label': 'category'\n",
        "}"
      ],
      "execution_count": null,
      "outputs": []
    },
    {
      "cell_type": "code",
      "metadata": {
        "id": "SXXPxHMaUTgB"
      },
      "source": [
        "df = pd.read_csv(tmp_file_path, dtype=types)"
      ],
      "execution_count": null,
      "outputs": []
    },
    {
      "cell_type": "code",
      "metadata": {
        "colab": {
          "base_uri": "https://localhost:8080/"
        },
        "id": "9ZzcqSjdUypA",
        "outputId": "22c9617e-086c-46c9-cd7b-7a300a250fa8"
      },
      "source": [
        "df.info()"
      ],
      "execution_count": null,
      "outputs": [
        {
          "output_type": "stream",
          "text": [
            "<class 'pandas.core.frame.DataFrame'>\n",
            "RangeIndex: 331100 entries, 0 to 331099\n",
            "Data columns (total 81 columns):\n",
            " #   Column             Non-Null Count   Dtype   \n",
            "---  ------             --------------   -----   \n",
            " 0   Unnamed: 0         331100 non-null  int64   \n",
            " 1   dst_port           331100 non-null  uint32  \n",
            " 2   protocol           331100 non-null  uint8   \n",
            " 3   timestamp          331100 non-null  object  \n",
            " 4   flow_duration      331100 non-null  int64   \n",
            " 5   tot_fwd_pkts       331100 non-null  uint32  \n",
            " 6   tot_bwd_pkts       331100 non-null  uint32  \n",
            " 7   totlen_fwd_pkts    331100 non-null  uint32  \n",
            " 8   totlen_bwd_pkts    331100 non-null  uint32  \n",
            " 9   fwd_pkt_len_max    331100 non-null  uint16  \n",
            " 10  fwd_pkt_len_min    331100 non-null  uint16  \n",
            " 11  fwd_pkt_len_mean   331100 non-null  float32 \n",
            " 12  fwd_pkt_len_std    331100 non-null  float32 \n",
            " 13  bwd_pkt_len_max    331100 non-null  uint16  \n",
            " 14  bwd_pkt_len_min    331100 non-null  uint16  \n",
            " 15  bwd_pkt_len_mean   331100 non-null  float32 \n",
            " 16  bwd_pkt_len_std    331100 non-null  float32 \n",
            " 17  flow_byts_s        329266 non-null  float32 \n",
            " 18  flow_pkts_s        331100 non-null  float64 \n",
            " 19  flow_iat_mean      331100 non-null  float32 \n",
            " 20  flow_iat_std       331100 non-null  float32 \n",
            " 21  flow_iat_max       331100 non-null  int64   \n",
            " 22  flow_iat_min       331100 non-null  int64   \n",
            " 23  fwd_iat_tot        331100 non-null  int64   \n",
            " 24  fwd_iat_mean       331100 non-null  float32 \n",
            " 25  fwd_iat_std        331100 non-null  float32 \n",
            " 26  fwd_iat_max        331100 non-null  int64   \n",
            " 27  fwd_iat_min        331100 non-null  int64   \n",
            " 28  bwd_iat_tot        331100 non-null  uint32  \n",
            " 29  bwd_iat_mean       331100 non-null  float32 \n",
            " 30  bwd_iat_std        331100 non-null  float32 \n",
            " 31  bwd_iat_max        331100 non-null  uint32  \n",
            " 32  bwd_iat_min        331100 non-null  uint32  \n",
            " 33  fwd_psh_flags      331100 non-null  uint8   \n",
            " 34  bwd_psh_flags      331100 non-null  uint8   \n",
            " 35  fwd_urg_flags      331100 non-null  uint8   \n",
            " 36  bwd_urg_flags      331100 non-null  uint8   \n",
            " 37  fwd_header_len     331100 non-null  uint32  \n",
            " 38  bwd_header_len     331100 non-null  uint32  \n",
            " 39  fwd_pkts_s         331100 non-null  float64 \n",
            " 40  bwd_pkts_s         331100 non-null  float32 \n",
            " 41  pkt_len_min        331100 non-null  uint16  \n",
            " 42  pkt_len_max        331100 non-null  uint16  \n",
            " 43  pkt_len_mean       331100 non-null  float32 \n",
            " 44  pkt_len_std        331100 non-null  float32 \n",
            " 45  pkt_len_var        331100 non-null  float32 \n",
            " 46  fin_flag_cnt       331100 non-null  uint8   \n",
            " 47  syn_flag_cnt       331100 non-null  uint8   \n",
            " 48  rst_flag_cnt       331100 non-null  uint8   \n",
            " 49  psh_flag_cnt       331100 non-null  uint8   \n",
            " 50  ack_flag_cnt       331100 non-null  uint8   \n",
            " 51  urg_flag_cnt       331100 non-null  uint8   \n",
            " 52  cwe_flag_count     331100 non-null  uint8   \n",
            " 53  ece_flag_cnt       331100 non-null  uint8   \n",
            " 54  down_up_ratio      331100 non-null  uint16  \n",
            " 55  pkt_size_avg       331100 non-null  float32 \n",
            " 56  fwd_seg_size_avg   331100 non-null  float32 \n",
            " 57  bwd_seg_size_avg   331100 non-null  float32 \n",
            " 58  fwd_byts_b_avg     331100 non-null  uint8   \n",
            " 59  fwd_pkts_b_avg     331100 non-null  uint8   \n",
            " 60  fwd_blk_rate_avg   331100 non-null  uint8   \n",
            " 61  bwd_byts_b_avg     331100 non-null  uint8   \n",
            " 62  bwd_pkts_b_avg     331100 non-null  uint8   \n",
            " 63  bwd_blk_rate_avg   331100 non-null  uint8   \n",
            " 64  subflow_fwd_pkts   331100 non-null  uint32  \n",
            " 65  subflow_fwd_byts   331100 non-null  uint32  \n",
            " 66  subflow_bwd_pkts   331100 non-null  uint32  \n",
            " 67  subflow_bwd_byts   331100 non-null  uint32  \n",
            " 68  init_fwd_win_byts  331100 non-null  int32   \n",
            " 69  init_bwd_win_byts  331100 non-null  int32   \n",
            " 70  fwd_act_data_pkts  331100 non-null  uint32  \n",
            " 71  fwd_seg_size_min   331100 non-null  uint8   \n",
            " 72  active_mean        331100 non-null  float32 \n",
            " 73  active_std         331100 non-null  float32 \n",
            " 74  active_max         331100 non-null  uint32  \n",
            " 75  active_min         331100 non-null  uint32  \n",
            " 76  idle_mean          331100 non-null  float32 \n",
            " 77  idle_std           331100 non-null  float32 \n",
            " 78  idle_max           331100 non-null  uint64  \n",
            " 79  idle_min           331100 non-null  uint64  \n",
            " 80  label              331100 non-null  category\n",
            "dtypes: category(1), float32(22), float64(2), int32(2), int64(7), object(1), uint16(7), uint32(17), uint64(2), uint8(20)\n",
            "memory usage: 93.1+ MB\n"
          ],
          "name": "stdout"
        }
      ]
    },
    {
      "cell_type": "code",
      "metadata": {
        "colab": {
          "base_uri": "https://localhost:8080/"
        },
        "id": "8Ry1xoJUVAIm",
        "outputId": "ef0cb3df-83e4-4c67-897e-af0f988d2200"
      },
      "source": [
        "print(f\"Infinity values of flow_byts_s: {df[df['flow_byts_s'] == np.inf]['dst_port'].count()}\")\n",
        "print(f\"Null values of flow_byts_s: {df[df['flow_byts_s'].isnull()]['dst_port'].count()}\")"
      ],
      "execution_count": null,
      "outputs": [
        {
          "output_type": "stream",
          "text": [
            "Infinity values of flow_byts_s: 1085\n",
            "Null values of flow_byts_s: 1834\n"
          ],
          "name": "stdout"
        }
      ]
    },
    {
      "cell_type": "code",
      "metadata": {
        "id": "2dBbUCotVbzq"
      },
      "source": [
        "import numpy as np\n",
        "import pandas as pd\n",
        "import os\n",
        "import re"
      ],
      "execution_count": null,
      "outputs": []
    },
    {
      "cell_type": "code",
      "metadata": {
        "id": "YKeLzCUTVeNM"
      },
      "source": [
        "csv_files = {\n",
        " 'Wednesday-28-02-2018_TrafficForML_CICFlowMeter.csv': 'infiltration_28-02-2018.csv',\n",
        " 'Thursday-01-03-2018_TrafficForML_CICFlowMeter.csv': 'infiltration_01-03-2018.csv',\n",
        " 'Friday-02-03-2018_TrafficForML_CICFlowMeter.csv': 'bot_02-03-2018.csv',\n",
        " 'Thursday-22-02-2018_TrafficForML_CICFlowMeter.csv': 'bruteforce-web-xss_sql-injection_22-02-2018.csv',\n",
        " 'Thursday-15-02-2018_TrafficForML_CICFlowMeter.csv': 'dos-goldeneye-slowloris_15-02-2018.csv',\n",
        " 'Thuesday-20-02-2018_TrafficForML_CICFlowMeter.csv': 'ddos-loic-http-loic-udp_20-02-2018.csv',\n",
        " 'Wednesday-21-02-2018_TrafficForML_CICFlowMeter.csv': 'ddos-loic-udp_hoic_21-02-2018.csv',\n",
        " 'Wednesday-14-02-2018_TrafficForML_CICFlowMeter.csv': 'bruteforce-ftp-ssh_14-02-2018.csv',\n",
        " 'Friday-16-02-2018_TrafficForML_CICFlowMeter.csv': 'dos-slowhttp-hulk_16-02-2018.csv',\n",
        " 'Friday-23-02-2018_TrafficForML_CICFlowMeter.csv': 'bruteforce-web-xss_sql-injection_23-02-2018.csv'\n",
        "}"
      ],
      "execution_count": null,
      "outputs": []
    },
    {
      "cell_type": "code",
      "metadata": {
        "id": "dzKRYvZoVl-7"
      },
      "source": [
        "column_name_regex = re.compile(r\"\\W\", re.IGNORECASE)\n",
        "processed_dir = 'processed'\n",
        "processed_path = os.path.join(dataset_base_path, processed_dir)"
      ],
      "execution_count": null,
      "outputs": []
    },
    {
      "cell_type": "code",
      "metadata": {
        "id": "xOkkLIxiVqHR"
      },
      "source": [
        "def remove_headers(f):    \n",
        "    return f[~f['Dst Port'].str.contains('Dst Port', na=False)]\n",
        "\n",
        "def replace_infinity(f):\n",
        "    return f.replace('Infinity', 'inf', inplace=True)\n",
        "\n",
        "def remove_non_word_chars_from_column_names(f):\n",
        "    return [column_name_regex.sub('_', c.lower()) for c in df.columns]\n",
        "    "
      ],
      "execution_count": null,
      "outputs": []
    },
    {
      "cell_type": "code",
      "metadata": {
        "id": "ozn4ycucVQRa"
      },
      "source": [
        "if not os.path.exists(processed_path):\n",
        "    os.mkdir(processed_path)    \n",
        "    \n",
        "for f, out in csv_files.items():\n",
        "    file_path = os.path.join(dataset_base_path, f)\n",
        "    output_path = os.path.join(dataset_base_path, processed_dir, out)\n",
        "    \n",
        "    df = pd.read_csv(file_path, dtype=str).drop(columns=['Flow ID', 'Src IP', 'Dst IP', 'Src Port'], errors='ignore')\n",
        "    df = remove_headers(df)\n",
        "    replace_infinity(df)\n",
        "    df.columns = remove_non_word_chars_from_column_names(df)\n",
        "    df.to_csv(output_path, index=False)"
      ],
      "execution_count": null,
      "outputs": []
    },
    {
      "cell_type": "code",
      "metadata": {
        "id": "CideSJA8VQNh"
      },
      "source": [
        ""
      ],
      "execution_count": null,
      "outputs": []
    }
  ]
}
